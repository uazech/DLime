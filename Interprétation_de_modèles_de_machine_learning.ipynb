{
  "nbformat": 4,
  "nbformat_minor": 0,
  "metadata": {
    "colab": {
      "name": "Interprétation de modèles de machine learning.ipynb",
      "provenance": [],
      "collapsed_sections": []
    },
    "kernelspec": {
      "name": "python3",
      "display_name": "Python 3"
    }
  },
  "cells": [
    {
      "cell_type": "markdown",
      "metadata": {
        "id": "wkh_SR3t1ZwI",
        "colab_type": "text"
      },
      "source": [
        "# Interprétation de modèles de machine learning"
      ]
    },
    {
      "cell_type": "markdown",
      "metadata": {
        "id": "dPqoLCq21iZ_",
        "colab_type": "text"
      },
      "source": [
        "## Introduction"
      ]
    },
    {
      "cell_type": "code",
      "metadata": {
        "id": "_ulAQ8d54xXV",
        "colab_type": "code",
        "colab": {}
      },
      "source": [
        "import pandas as pd\n",
        "import numpy as np\n",
        "import matplotlib.pyplot as plt\n"
      ],
      "execution_count": 0,
      "outputs": []
    },
    {
      "cell_type": "markdown",
      "metadata": {
        "id": "tgJHk6yP1k24",
        "colab_type": "text"
      },
      "source": [
        "## Compréhension des données"
      ]
    },
    {
      "cell_type": "markdown",
      "metadata": {
        "id": "jTdKaf0BCtfy",
        "colab_type": "text"
      },
      "source": [
        "### Lecture et préparation"
      ]
    },
    {
      "cell_type": "markdown",
      "metadata": {
        "id": "e8yO2tlx4-Eb",
        "colab_type": "text"
      },
      "source": [
        "On charge les données à l'aide d'un dataframe pandas et on affiche une partie des données"
      ]
    },
    {
      "cell_type": "code",
      "metadata": {
        "id": "EXVpj16KzGhs",
        "colab_type": "code",
        "colab": {
          "base_uri": "https://localhost:8080/",
          "height": 326
        },
        "outputId": "39e3801a-09d2-4f75-a6ec-901d99297c7c"
      },
      "source": [
        " # On charge les données depuis Github pour la portabilité du notebook.\n",
        "df = pd.read_csv(\"https://raw.githubusercontent.com/uazech/DLime/master/KaggleV2-May-2016.csv\")\n",
        "df.head()"
      ],
      "execution_count": 27,
      "outputs": [
        {
          "output_type": "execute_result",
          "data": {
            "text/html": [
              "<div>\n",
              "<style scoped>\n",
              "    .dataframe tbody tr th:only-of-type {\n",
              "        vertical-align: middle;\n",
              "    }\n",
              "\n",
              "    .dataframe tbody tr th {\n",
              "        vertical-align: top;\n",
              "    }\n",
              "\n",
              "    .dataframe thead th {\n",
              "        text-align: right;\n",
              "    }\n",
              "</style>\n",
              "<table border=\"1\" class=\"dataframe\">\n",
              "  <thead>\n",
              "    <tr style=\"text-align: right;\">\n",
              "      <th></th>\n",
              "      <th>PatientId</th>\n",
              "      <th>AppointmentID</th>\n",
              "      <th>Gender</th>\n",
              "      <th>ScheduledDay</th>\n",
              "      <th>AppointmentDay</th>\n",
              "      <th>Age</th>\n",
              "      <th>Neighbourhood</th>\n",
              "      <th>Scholarship</th>\n",
              "      <th>Hipertension</th>\n",
              "      <th>Diabetes</th>\n",
              "      <th>Alcoholism</th>\n",
              "      <th>Handcap</th>\n",
              "      <th>SMS_received</th>\n",
              "      <th>No-show</th>\n",
              "    </tr>\n",
              "  </thead>\n",
              "  <tbody>\n",
              "    <tr>\n",
              "      <th>0</th>\n",
              "      <td>2.987250e+13</td>\n",
              "      <td>5642903</td>\n",
              "      <td>F</td>\n",
              "      <td>2016-04-29T18:38:08Z</td>\n",
              "      <td>2016-04-29T00:00:00Z</td>\n",
              "      <td>62</td>\n",
              "      <td>JARDIM DA PENHA</td>\n",
              "      <td>0</td>\n",
              "      <td>1</td>\n",
              "      <td>0</td>\n",
              "      <td>0</td>\n",
              "      <td>0</td>\n",
              "      <td>0</td>\n",
              "      <td>No</td>\n",
              "    </tr>\n",
              "    <tr>\n",
              "      <th>1</th>\n",
              "      <td>5.589978e+14</td>\n",
              "      <td>5642503</td>\n",
              "      <td>M</td>\n",
              "      <td>2016-04-29T16:08:27Z</td>\n",
              "      <td>2016-04-29T00:00:00Z</td>\n",
              "      <td>56</td>\n",
              "      <td>JARDIM DA PENHA</td>\n",
              "      <td>0</td>\n",
              "      <td>0</td>\n",
              "      <td>0</td>\n",
              "      <td>0</td>\n",
              "      <td>0</td>\n",
              "      <td>0</td>\n",
              "      <td>No</td>\n",
              "    </tr>\n",
              "    <tr>\n",
              "      <th>2</th>\n",
              "      <td>4.262962e+12</td>\n",
              "      <td>5642549</td>\n",
              "      <td>F</td>\n",
              "      <td>2016-04-29T16:19:04Z</td>\n",
              "      <td>2016-04-29T00:00:00Z</td>\n",
              "      <td>62</td>\n",
              "      <td>MATA DA PRAIA</td>\n",
              "      <td>0</td>\n",
              "      <td>0</td>\n",
              "      <td>0</td>\n",
              "      <td>0</td>\n",
              "      <td>0</td>\n",
              "      <td>0</td>\n",
              "      <td>No</td>\n",
              "    </tr>\n",
              "    <tr>\n",
              "      <th>3</th>\n",
              "      <td>8.679512e+11</td>\n",
              "      <td>5642828</td>\n",
              "      <td>F</td>\n",
              "      <td>2016-04-29T17:29:31Z</td>\n",
              "      <td>2016-04-29T00:00:00Z</td>\n",
              "      <td>8</td>\n",
              "      <td>PONTAL DE CAMBURI</td>\n",
              "      <td>0</td>\n",
              "      <td>0</td>\n",
              "      <td>0</td>\n",
              "      <td>0</td>\n",
              "      <td>0</td>\n",
              "      <td>0</td>\n",
              "      <td>No</td>\n",
              "    </tr>\n",
              "    <tr>\n",
              "      <th>4</th>\n",
              "      <td>8.841186e+12</td>\n",
              "      <td>5642494</td>\n",
              "      <td>F</td>\n",
              "      <td>2016-04-29T16:07:23Z</td>\n",
              "      <td>2016-04-29T00:00:00Z</td>\n",
              "      <td>56</td>\n",
              "      <td>JARDIM DA PENHA</td>\n",
              "      <td>0</td>\n",
              "      <td>1</td>\n",
              "      <td>1</td>\n",
              "      <td>0</td>\n",
              "      <td>0</td>\n",
              "      <td>0</td>\n",
              "      <td>No</td>\n",
              "    </tr>\n",
              "  </tbody>\n",
              "</table>\n",
              "</div>"
            ],
            "text/plain": [
              "      PatientId  AppointmentID Gender  ... Handcap SMS_received  No-show\n",
              "0  2.987250e+13        5642903      F  ...       0            0       No\n",
              "1  5.589978e+14        5642503      M  ...       0            0       No\n",
              "2  4.262962e+12        5642549      F  ...       0            0       No\n",
              "3  8.679512e+11        5642828      F  ...       0            0       No\n",
              "4  8.841186e+12        5642494      F  ...       0            0       No\n",
              "\n",
              "[5 rows x 14 columns]"
            ]
          },
          "metadata": {
            "tags": []
          },
          "execution_count": 27
        }
      ]
    },
    {
      "cell_type": "markdown",
      "metadata": {
        "id": "jV0hHiZl5Ino",
        "colab_type": "text"
      },
      "source": [
        "On regarde les différentes variables et le typage des données. \n"
      ]
    },
    {
      "cell_type": "code",
      "metadata": {
        "id": "I-_kWTJZ5Gjg",
        "colab_type": "code",
        "colab": {
          "base_uri": "https://localhost:8080/",
          "height": 277
        },
        "outputId": "e00b2b61-f4a0-4e02-e843-e5b59e21482a"
      },
      "source": [
        "df.dtypes"
      ],
      "execution_count": 28,
      "outputs": [
        {
          "output_type": "execute_result",
          "data": {
            "text/plain": [
              "PatientId         float64\n",
              "AppointmentID       int64\n",
              "Gender             object\n",
              "ScheduledDay       object\n",
              "AppointmentDay     object\n",
              "Age                 int64\n",
              "Neighbourhood      object\n",
              "Scholarship         int64\n",
              "Hipertension        int64\n",
              "Diabetes            int64\n",
              "Alcoholism          int64\n",
              "Handcap             int64\n",
              "SMS_received        int64\n",
              "No-show            object\n",
              "dtype: object"
            ]
          },
          "metadata": {
            "tags": []
          },
          "execution_count": 28
        }
      ]
    },
    {
      "cell_type": "markdown",
      "metadata": {
        "id": "08_uR3L88tyM",
        "colab_type": "text"
      },
      "source": [
        "Les deux features ScheduledDay et AppointmentDay devraient être de type date. On caste donc les deux colonnes. On caste également la cible en entier, 0 indiquant que la personne n'est pas allée à son RDV et 1 qu'elle y est allée.\n",
        "\n"
      ]
    },
    {
      "cell_type": "code",
      "metadata": {
        "id": "FlwU8LV38snJ",
        "colab_type": "code",
        "colab": {
          "base_uri": "https://localhost:8080/",
          "height": 277
        },
        "outputId": "cf9cffbc-dee0-452f-fbfb-905dc77c10d4"
      },
      "source": [
        "df['ScheduledDay'] =  pd.to_datetime(df['ScheduledDay'])\n",
        "df['AppointmentDay'] =  pd.to_datetime(df['AppointmentDay'])\n",
        "\n",
        "df[\"target\"]= (df[\"No-show\"] == \"Yes\").astype(\"int8\")\n",
        "df = df.drop(\"No-show\", axis=1)\n",
        "df.dtypes"
      ],
      "execution_count": 29,
      "outputs": [
        {
          "output_type": "execute_result",
          "data": {
            "text/plain": [
              "PatientId                     float64\n",
              "AppointmentID                   int64\n",
              "Gender                         object\n",
              "ScheduledDay      datetime64[ns, UTC]\n",
              "AppointmentDay    datetime64[ns, UTC]\n",
              "Age                             int64\n",
              "Neighbourhood                  object\n",
              "Scholarship                     int64\n",
              "Hipertension                    int64\n",
              "Diabetes                        int64\n",
              "Alcoholism                      int64\n",
              "Handcap                         int64\n",
              "SMS_received                    int64\n",
              "target                           int8\n",
              "dtype: object"
            ]
          },
          "metadata": {
            "tags": []
          },
          "execution_count": 29
        }
      ]
    },
    {
      "cell_type": "markdown",
      "metadata": {
        "id": "PJ-ivGmT_XDi",
        "colab_type": "text"
      },
      "source": [
        "Le typage des données semble correct.\n",
        "\n",
        "\n",
        "On étudie la proportion de valeur manquante. "
      ]
    },
    {
      "cell_type": "code",
      "metadata": {
        "id": "1SAdjApW_VZY",
        "colab_type": "code",
        "colab": {
          "base_uri": "https://localhost:8080/",
          "height": 277
        },
        "outputId": "e83e1f4a-75da-4b87-c008-35cdb16e5481"
      },
      "source": [
        "df.isna().sum()"
      ],
      "execution_count": 30,
      "outputs": [
        {
          "output_type": "execute_result",
          "data": {
            "text/plain": [
              "PatientId         0\n",
              "AppointmentID     0\n",
              "Gender            0\n",
              "ScheduledDay      0\n",
              "AppointmentDay    0\n",
              "Age               0\n",
              "Neighbourhood     0\n",
              "Scholarship       0\n",
              "Hipertension      0\n",
              "Diabetes          0\n",
              "Alcoholism        0\n",
              "Handcap           0\n",
              "SMS_received      0\n",
              "target            0\n",
              "dtype: int64"
            ]
          },
          "metadata": {
            "tags": []
          },
          "execution_count": 30
        }
      ]
    },
    {
      "cell_type": "markdown",
      "metadata": {
        "id": "Skuozfwr_5u-",
        "colab_type": "text"
      },
      "source": [
        "Il n'y a aucune donnée manquante à priori. \n",
        "\n",
        "On étudie le nombre de modalité unique par colonne."
      ]
    },
    {
      "cell_type": "code",
      "metadata": {
        "id": "ePaSTxso_4pt",
        "colab_type": "code",
        "colab": {
          "base_uri": "https://localhost:8080/",
          "height": 277
        },
        "outputId": "8bfb357b-1a0b-4587-b7a6-2ac696af50cb"
      },
      "source": [
        "df.nunique()"
      ],
      "execution_count": 31,
      "outputs": [
        {
          "output_type": "execute_result",
          "data": {
            "text/plain": [
              "PatientId          62299\n",
              "AppointmentID     110527\n",
              "Gender                 2\n",
              "ScheduledDay      103549\n",
              "AppointmentDay        27\n",
              "Age                  104\n",
              "Neighbourhood         81\n",
              "Scholarship            2\n",
              "Hipertension           2\n",
              "Diabetes               2\n",
              "Alcoholism             2\n",
              "Handcap                5\n",
              "SMS_received           2\n",
              "target                 2\n",
              "dtype: int64"
            ]
          },
          "metadata": {
            "tags": []
          },
          "execution_count": 31
        }
      ]
    },
    {
      "cell_type": "markdown",
      "metadata": {
        "id": "BvD2SlZZAaBJ",
        "colab_type": "text"
      },
      "source": [
        "On remarque que les colonnes patientId et AppointmentID sont inutiles. On décidera de garder l'AppointmentID en index du dataframe, car chaque ID correspond à une ligne unique.\n",
        "\n",
        "Les variables booléenes possèdent bien 2 modalités, à l'exception de handcap. Il faudra étudier plus en détail cette variable afin de comprendre pourquoi il y a 5 modalités différentes.\n",
        "\n",
        "On remarque enfin que la colonne \"AppointmentDay\" ne possède que 27 valeurs différentes. Il sera compliqué de réaliser du feature engineering sur cette variable.\n",
        "\n",
        "Nous essaierons également de traiter la variable Neighbourhood qui correspond à une zone géographique afin du juger de sa pertinence.\n",
        "\n",
        "\n",
        "On redéfini l'index et on supprime la colonne PatientId"
      ]
    },
    {
      "cell_type": "code",
      "metadata": {
        "id": "Z1OogQLGARb_",
        "colab_type": "code",
        "colab": {}
      },
      "source": [
        "df.set_index('AppointmentID')\n",
        "df = df.drop(\"PatientId\", axis=1)"
      ],
      "execution_count": 0,
      "outputs": []
    },
    {
      "cell_type": "markdown",
      "metadata": {
        "id": "vLzp9JlJKUG4",
        "colab_type": "text"
      },
      "source": [
        "On réalise du feature engineering pour garder les notions suivantes sur les champs dates :\n",
        "* Le timestamp permettant de garder la continuité des variables temporelles\n",
        "* Le mois et l'année \n",
        "* Le jour de la semaine\n",
        "\n",
        "On calcule également la différence entre l'appointment day et le scheduled day pour avoir le nombre d'heure avant le rendez-vous."
      ]
    },
    {
      "cell_type": "code",
      "metadata": {
        "id": "CczTbkKHEFJh",
        "colab_type": "code",
        "colab": {}
      },
      "source": [
        "# Feature engineering pour le ScheduledDay\n",
        "df['ScheduledYear'] = pd.DatetimeIndex(df['ScheduledDay']).year \n",
        "df['ScheduledMonth'] = pd.DatetimeIndex(df['ScheduledDay']).month\n",
        "df['ScheduledHour'] = pd.DatetimeIndex(df['ScheduledDay']).hour\n",
        "df['ScheduledDayOfWeek'] = pd.DatetimeIndex(df['ScheduledDay']).dayofweek.map(\n",
        "    {0:\"lundi\", 1:\"mardi\", 2:\"mercredi\", 3:\"jeudi\", 4:\"vendredi\", 5:\"samedi\", 6:\"dimanche\"})\n",
        "df['ScheduledTimestamp'] = df.ScheduledDay.values.astype(np.int64) // 10 ** 9 \n",
        "\n",
        "# Feature engineering pour l'AppointmentDay\n",
        "df['AppointmentYear'] = pd.DatetimeIndex(df['AppointmentDay']).year \n",
        "df['AppointmentMonth'] = pd.DatetimeIndex(df['AppointmentDay']).month\n",
        "df['AppointmentHour'] = pd.DatetimeIndex(df['AppointmentDay']).hour \n",
        "df['AppointmentDayOfWeek'] = pd.DatetimeIndex(df['AppointmentDay']).dayofweek\n",
        "df['AppointmentTimestamp'] = df.AppointmentDay.values.astype(np.int64) // 10 ** 9 \n",
        "\n",
        "# Calcul de la variable nbHeureAvantRDV\n",
        "df['nbHeureAvantRDV'] = (pd.DatetimeIndex(df['AppointmentDay']) - pd.DatetimeIndex(df['ScheduledDay'])).seconds / 3600"
      ],
      "execution_count": 0,
      "outputs": []
    },
    {
      "cell_type": "markdown",
      "metadata": {
        "id": "Fkm1vPA_S3T3",
        "colab_type": "text"
      },
      "source": [
        "### Analyse des données\n",
        "\n",
        "On trace des histogrammes pour les variables numériques afin d'étudier la répartition."
      ]
    },
    {
      "cell_type": "code",
      "metadata": {
        "id": "OKrG9YBsTW4_",
        "colab_type": "code",
        "colab": {
          "base_uri": "https://localhost:8080/",
          "height": 451
        },
        "outputId": "fd0e3274-4897-414e-a201-a1e606d5bf08"
      },
      "source": [
        "df.nunique()"
      ],
      "execution_count": 34,
      "outputs": [
        {
          "output_type": "execute_result",
          "data": {
            "text/plain": [
              "AppointmentID           110527\n",
              "Gender                       2\n",
              "ScheduledDay            103549\n",
              "AppointmentDay              27\n",
              "Age                        104\n",
              "Neighbourhood               81\n",
              "Scholarship                  2\n",
              "Hipertension                 2\n",
              "Diabetes                     2\n",
              "Alcoholism                   2\n",
              "Handcap                      5\n",
              "SMS_received                 2\n",
              "target                       2\n",
              "ScheduledYear                2\n",
              "ScheduledMonth               8\n",
              "ScheduledHour               16\n",
              "ScheduledDayOfWeek           6\n",
              "ScheduledTimestamp      103549\n",
              "AppointmentYear              1\n",
              "AppointmentMonth             3\n",
              "AppointmentHour              1\n",
              "AppointmentDayOfWeek         6\n",
              "AppointmentTimestamp        27\n",
              "nbHeureAvantRDV          37109\n",
              "dtype: int64"
            ]
          },
          "metadata": {
            "tags": []
          },
          "execution_count": 34
        }
      ]
    },
    {
      "cell_type": "code",
      "metadata": {
        "id": "kUkevCEHKH5k",
        "colab_type": "code",
        "colab": {
          "base_uri": "https://localhost:8080/",
          "height": 1000
        },
        "outputId": "1f34d80a-940a-4f32-e57f-378fbdadd173"
      },
      "source": [
        "fig = plt.figure(figsize = (15,20))\n",
        "ax = fig.gca()\n",
        "df.hist(ax = ax)\n",
        "plt.show()"
      ],
      "execution_count": 35,
      "outputs": [
        {
          "output_type": "stream",
          "text": [
            "/usr/local/lib/python3.6/dist-packages/ipykernel_launcher.py:3: UserWarning: To output multiple subplots, the figure containing the passed axes is being cleared\n",
            "  This is separate from the ipykernel package so we can avoid doing imports until\n"
          ],
          "name": "stderr"
        },
        {
          "output_type": "display_data",
          "data": {
            "image/png": "[encoded data removed]",
            "text/plain": [
              "<Figure size 1080x1440 with 20 Axes>"
            ]
          },
          "metadata": {
            "tags": []
          }
        }
      ]
    },
    {
      "cell_type": "markdown",
      "metadata": {
        "id": "2PYF_VlOWTa7",
        "colab_type": "text"
      },
      "source": [
        "Il y a beaucoup de choses à dire à propos de ces histogrammes :\n",
        "* La cible est très déséquilibrée. Il faudra faire attention à l'interprétation des résultats des modèles.\n",
        "* Les données ScheduledYear, AppointmentYear et AppointmentHour sont trop homogènes et ne peuvent donc pas apporter beaucoup d'information. Il faudra les supprimer.\n",
        "* Les données de types booléenes sont mals réparties, et penchent pour des situation normales. La variable Handcap "
      ]
    },
    {
      "cell_type": "code",
      "metadata": {
        "id": "tkDD1pcWL01a",
        "colab_type": "code",
        "colab": {}
      },
      "source": [
        ""
      ],
      "execution_count": 0,
      "outputs": []
    }
  ]
}